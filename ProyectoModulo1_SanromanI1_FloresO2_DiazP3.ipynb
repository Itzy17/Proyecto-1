{
 "cells": [
  {
   "cell_type": "markdown",
   "metadata": {},
   "source": [
    "***Primer proyecto de simulación matemática***"
   ]
  },
  {
   "attachments": {},
   "cell_type": "markdown",
   "metadata": {},
   "source": [
    "# \"APROXIMANDO USD/MXN CON PRECIOS ANTERIORES\""
   ]
  },
  {
   "attachments": {},
   "cell_type": "markdown",
   "metadata": {},
   "source": [
    "En este trabajo realizaremos  aproximaciones con base a 5, 30 y 90 días anteriores al precio USD/MXN del 20 de Septiembre. Se compararán y graficarán los resultados para determinar el impacto que tiene realizar una aproximación con un mayor número de datos. "
   ]
  },
  {
   "attachments": {},
   "cell_type": "markdown",
   "metadata": {},
   "source": [
    "### Objetivo general\n",
    "Realizar y comparar aproximaciones con diferente número días anteriores al precio USD/MXN  actual.\n",
    "### Objetivos específicos\n",
    "Calcular la aproximación con 5, 30 y 90 días.\n",
    "Comparar el precio obtenido por la aproximación con el precio real (20 Septiembre).\n",
    "Graficar los resultados obtenidos de las aproximaciones.\n",
    "Graficar el error de las aproximaciones contra el precio real.\n",
    "Determinar cual fue la aproximación más acertada y por qué."
   ]
  },
  {
   "cell_type": "markdown",
   "metadata": {},
   "source": []
  },
  {
   "cell_type": "markdown",
   "metadata": {},
   "source": []
  },
  {
   "cell_type": "markdown",
   "metadata": {},
   "source": []
  },
  {
   "cell_type": "markdown",
   "metadata": {},
   "source": []
  },
  {
   "cell_type": "markdown",
   "metadata": {},
   "source": []
  },
  {
   "cell_type": "code",
   "execution_count": 1,
   "metadata": {},
   "outputs": [],
   "source": [
    "import pandas as pd\n",
    "import numpy as np\n",
    "import scipy.optimize as opt\n",
    "import matplotlib.pyplot as plt"
   ]
  },
  {
   "cell_type": "code",
   "execution_count": 2,
   "metadata": {},
   "outputs": [],
   "source": [
    "def datos(archivo, columnas):\n",
    "    file = pd.read_csv(archivo) #se importa el archivo.\n",
    "    n = len(file['Fecha']) #se calcula la longitud de los datos. \n",
    "    cierre = file['Cierre'].values\n",
    "    en_blanco = np.zeros((n-columnas,columnas)) #se crea un array en blanco de dimensiones(n-columna * colummna)\n",
    "    for k in np.arange(columnas): \n",
    "        en_blanco[:,k] = cierre[k:n-columnas+k] #se rellenan los datos vacíos con los originales.\n",
    "    return(en_blanco, cierre)"
   ]
  },
  {
   "cell_type": "code",
   "execution_count": 3,
   "metadata": {},
   "outputs": [
    {
     "data": {
      "text/plain": [
       "array([[18.819 , 18.776 , 18.8068, ..., 18.8936, 18.8935, 18.982 ],\n",
       "       [18.776 , 18.8068, 18.838 , ..., 18.8935, 18.982 , 19.1373],\n",
       "       [18.8068, 18.838 , 18.895 , ..., 18.982 , 19.1373, 18.8826],\n",
       "       ...,\n",
       "       [11.8145, 11.235 , 11.2   , ..., 10.145 , 10.1625, 10.135 ],\n",
       "       [11.235 , 11.2   , 10.96  , ..., 10.1625, 10.135 , 10.145 ],\n",
       "       [11.2   , 10.96  , 10.92  , ..., 10.135 , 10.145 , 10.095 ]])"
      ]
     },
     "execution_count": 3,
     "metadata": {},
     "output_type": "execute_result"
    }
   ],
   "source": [
    "archivo = 'USD_MXN.csv'    \n",
    "data, linear = datos(archivo, 31)\n",
    "data"
   ]
  },
  {
   "cell_type": "code",
   "execution_count": 4,
   "metadata": {},
   "outputs": [
    {
     "data": {
      "text/plain": [
       "(array([[18.776 , 18.8068, 18.838 , ..., 18.8936, 18.8935, 18.982 ],\n",
       "        [18.8068, 18.838 , 18.895 , ..., 18.8935, 18.982 , 19.1373],\n",
       "        [18.838 , 18.895 , 18.8882, ..., 18.982 , 19.1373, 18.8826],\n",
       "        ...,\n",
       "        [11.235 , 11.2   , 10.96  , ..., 10.145 , 10.1625, 10.135 ],\n",
       "        [11.2   , 10.96  , 10.92  , ..., 10.1625, 10.135 , 10.145 ],\n",
       "        [10.96  , 10.92  , 11.04  , ..., 10.135 , 10.145 , 10.095 ]]),\n",
       " array([18.819 , 18.776 , 18.8068, ..., 11.8145, 11.235 , 11.2   ]))"
      ]
     },
     "execution_count": 4,
     "metadata": {},
     "output_type": "execute_result"
    }
   ],
   "source": [
    "b = data[:,0]\n",
    "A = data[:,1:]\n",
    "A, b"
   ]
  },
  {
   "cell_type": "markdown",
   "metadata": {},
   "source": [
    "Se toma por supuesto que el precio de un día será dado por el precio de 30 días anteriores. Se tiene el resultado algebráico: $$Ax = b$$ dónde A es la matriz nombrada de valores de ingreso y b es el resultado. \n",
    "se despeja x para conseguir el vector con el cual se harán aproximaciones posteriormente. \n",
    "$$x = A^{-1}b$$"
   ]
  },
  {
   "cell_type": "code",
   "execution_count": 5,
   "metadata": {},
   "outputs": [
    {
     "data": {
      "text/plain": [
       "(array([ 9.73588406e-01, -4.95386517e-04, -1.34215421e-03,  1.20240964e-02,\n",
       "        -4.12632310e-02,  1.26364132e-01, -8.49968250e-02,  7.33702673e-02,\n",
       "        -4.86844621e-02,  9.92309388e-03,  3.44808057e-03, -3.57375544e-02,\n",
       "         4.93039900e-03, -1.37626974e-02,  4.23376656e-02, -2.60167939e-02,\n",
       "        -1.29787848e-02, -2.95980351e-02,  5.81861925e-02,  7.88262352e-03,\n",
       "         4.87429776e-03, -4.12241544e-02,  1.25482087e-02,  4.32104616e-02,\n",
       "        -7.13789923e-02,  1.50409753e-02,  6.48299094e-02, -8.47440052e-02,\n",
       "         4.93332937e-02, -9.49262862e-03]), 30)"
      ]
     },
     "execution_count": 5,
     "metadata": {},
     "output_type": "execute_result"
    }
   ],
   "source": [
    "x = np.linalg.pinv(A).dot(b)\n",
    "x, len(x)"
   ]
  },
  {
   "cell_type": "markdown",
   "metadata": {},
   "source": [
    "Ahora que se tiene el vector X ingresamos los últimos 30 datos y los evalúamos con el vector para conseguir una aproximación de la nueva cotización. "
   ]
  },
  {
   "cell_type": "code",
   "execution_count": 6,
   "metadata": {},
   "outputs": [],
   "source": [
    "pred = linear[0:30]"
   ]
  },
  {
   "cell_type": "markdown",
   "metadata": {},
   "source": [
    "En la variable pred almacenamos los últimos 30 datos obtenidos de las cotizaciones del dolar-peso y la multiplicamos vectorialmente por la variable x. El resultado deberá ser un número cercano al precio nuevo."
   ]
  },
  {
   "cell_type": "code",
   "execution_count": 7,
   "metadata": {},
   "outputs": [
    {
     "data": {
      "text/plain": [
       "18.816193614698225"
      ]
     },
     "execution_count": 7,
     "metadata": {},
     "output_type": "execute_result"
    }
   ],
   "source": [
    "pred.dot(x)"
   ]
  },
  {
   "cell_type": "markdown",
   "metadata": {},
   "source": [
    "Como valor nos arroja que el precio del día 20 de septiembre deberá ser cercano a   **18.816193** .  Después de consultar el precio de cierre del día 20 de septiembre confirmamos que es de:   **18.7972**   Obteniendo un error de   **0.1%**   en la predicción del nuevo precio. "
   ]
  },
  {
   "cell_type": "code",
   "execution_count": 8,
   "metadata": {},
   "outputs": [
    {
     "data": {
      "text/plain": [
       "[<matplotlib.lines.Line2D at 0x235058fa4a8>]"
      ]
     },
     "execution_count": 8,
     "metadata": {},
     "output_type": "execute_result"
    },
    {
     "data": {
      "image/png": "[encoded data removed]",
      "text/plain": [
       "<Figure size 432x288 with 1 Axes>"
      ]
     },
     "metadata": {},
     "output_type": "display_data"
    }
   ],
   "source": [
    "plt.plot(x)"
   ]
  },
  {
   "cell_type": "code",
   "execution_count": 9,
   "metadata": {},
   "outputs": [
    {
     "data": {
      "text/plain": [
       "array([ 9.73588406e-01, -4.95386517e-04, -1.34215421e-03,  1.20240964e-02,\n",
       "       -4.12632310e-02,  1.26364132e-01, -8.49968250e-02,  7.33702673e-02,\n",
       "       -4.86844621e-02,  9.92309388e-03,  3.44808057e-03, -3.57375544e-02,\n",
       "        4.93039900e-03, -1.37626974e-02,  4.23376656e-02, -2.60167939e-02,\n",
       "       -1.29787848e-02, -2.95980351e-02,  5.81861925e-02,  7.88262352e-03,\n",
       "        4.87429776e-03, -4.12241544e-02,  1.25482087e-02,  4.32104616e-02,\n",
       "       -7.13789923e-02,  1.50409753e-02,  6.48299094e-02, -8.47440052e-02,\n",
       "        4.93332937e-02, -9.49262862e-03])"
      ]
     },
     "execution_count": 9,
     "metadata": {},
     "output_type": "execute_result"
    }
   ],
   "source": [
    "x"
   ]
  },
  {
   "cell_type": "code",
   "execution_count": 11,
   "metadata": {},
   "outputs": [
    {
     "data": {
      "text/plain": [
       "array([[18.819 , 18.776 , 18.8068, 18.838 , 18.895 , 18.8882],\n",
       "       [18.776 , 18.8068, 18.838 , 18.895 , 18.8882, 18.8335],\n",
       "       [18.8068, 18.838 , 18.895 , 18.8882, 18.8335, 19.0177],\n",
       "       ...,\n",
       "       [10.3365, 10.285 , 10.235 , 10.145 , 10.1625, 10.135 ],\n",
       "       [10.285 , 10.235 , 10.145 , 10.1625, 10.135 , 10.145 ],\n",
       "       [10.235 , 10.145 , 10.1625, 10.135 , 10.145 , 10.095 ]])"
      ]
     },
     "execution_count": 11,
     "metadata": {},
     "output_type": "execute_result"
    }
   ],
   "source": [
    "archivo = 'USD_MXN.csv'    \n",
    "data, linear = datos(archivo, 6)\n",
    "data"
   ]
  },
  {
   "cell_type": "code",
   "execution_count": 12,
   "metadata": {},
   "outputs": [
    {
     "data": {
      "text/plain": [
       "(array([[18.776 , 18.8068, 18.838 , 18.895 , 18.8882],\n",
       "        [18.8068, 18.838 , 18.895 , 18.8882, 18.8335],\n",
       "        [18.838 , 18.895 , 18.8882, 18.8335, 19.0177],\n",
       "        ...,\n",
       "        [10.285 , 10.235 , 10.145 , 10.1625, 10.135 ],\n",
       "        [10.235 , 10.145 , 10.1625, 10.135 , 10.145 ],\n",
       "        [10.145 , 10.1625, 10.135 , 10.145 , 10.095 ]]),\n",
       " array([18.819 , 18.776 , 18.8068, ..., 10.3365, 10.285 , 10.235 ]))"
      ]
     },
     "execution_count": 12,
     "metadata": {},
     "output_type": "execute_result"
    }
   ],
   "source": [
    "b = data[:,0]\n",
    "A = data[:,1:]\n",
    "A, b"
   ]
  },
  {
   "cell_type": "code",
   "execution_count": 13,
   "metadata": {},
   "outputs": [
    {
     "data": {
      "text/plain": [
       "(array([ 0.96478304,  0.01054616, -0.00331316,  0.01196263,  0.01621708]), 5)"
      ]
     },
     "execution_count": 13,
     "metadata": {},
     "output_type": "execute_result"
    }
   ],
   "source": [
    "x = np.linalg.pinv(A).dot(b)\n",
    "x, len(x)"
   ]
  },
  {
   "cell_type": "code",
   "execution_count": 16,
   "metadata": {},
   "outputs": [],
   "source": [
    "pred = linear[0:5]"
   ]
  },
  {
   "cell_type": "code",
   "execution_count": 17,
   "metadata": {},
   "outputs": [
    {
     "data": {
      "text/plain": [
       "18.82373064683572"
      ]
     },
     "execution_count": 17,
     "metadata": {},
     "output_type": "execute_result"
    }
   ],
   "source": [
    "pred.dot(x)"
   ]
  },
  {
   "cell_type": "code",
   "execution_count": 18,
   "metadata": {},
   "outputs": [
    {
     "data": {
      "text/plain": [
       "[<matplotlib.lines.Line2D at 0x23505e23390>]"
      ]
     },
     "execution_count": 18,
     "metadata": {},
     "output_type": "execute_result"
    },
    {
     "data": {
      "image/png": "[encoded data removed]",
      "text/plain": [
       "<Figure size 432x288 with 1 Axes>"
      ]
     },
     "metadata": {},
     "output_type": "display_data"
    }
   ],
   "source": [
    "plt.plot(x)"
   ]
  },
  {
   "cell_type": "markdown",
   "metadata": {},
   "source": [
    "Por lo tanto la aproximácion del precio tomando solamente los ultimos 5 días es peor ya que fue más inexacta. No refleja la tendencia en la variación del precio."
   ]
  },
  {
   "cell_type": "code",
   "execution_count": 18,
   "metadata": {},
   "outputs": [
    {
     "data": {
      "text/plain": [
       "array([[18.819 , 18.776 , 18.8068, ..., 20.34  , 20.2895, 20.4785],\n",
       "       [18.776 , 18.8068, 18.838 , ..., 20.2895, 20.4785, 20.3012],\n",
       "       [18.8068, 18.838 , 18.895 , ..., 20.4785, 20.3012, 20.4605],\n",
       "       ...,\n",
       "       [13.7055, 13.4295, 13.3   , ..., 10.145 , 10.1625, 10.135 ],\n",
       "       [13.4295, 13.3   , 13.2945, ..., 10.1625, 10.135 , 10.145 ],\n",
       "       [13.3   , 13.2945, 13.3195, ..., 10.135 , 10.145 , 10.095 ]])"
      ]
     },
     "execution_count": 18,
     "metadata": {},
     "output_type": "execute_result"
    }
   ],
   "source": [
    "data, linear = datos(archivo, 91)\n",
    "data"
   ]
  },
  {
   "cell_type": "code",
   "execution_count": 19,
   "metadata": {},
   "outputs": [
    {
     "data": {
      "text/plain": [
       "(array([[18.776 , 18.8068, 18.838 , ..., 20.34  , 20.2895, 20.4785],\n",
       "        [18.8068, 18.838 , 18.895 , ..., 20.2895, 20.4785, 20.3012],\n",
       "        [18.838 , 18.895 , 18.8882, ..., 20.4785, 20.3012, 20.4605],\n",
       "        ...,\n",
       "        [13.4295, 13.3   , 13.2945, ..., 10.145 , 10.1625, 10.135 ],\n",
       "        [13.3   , 13.2945, 13.3195, ..., 10.1625, 10.135 , 10.145 ],\n",
       "        [13.2945, 13.3195, 13.1825, ..., 10.135 , 10.145 , 10.095 ]]),\n",
       " array([18.819 , 18.776 , 18.8068, ..., 13.7055, 13.4295, 13.3   ]))"
      ]
     },
     "execution_count": 19,
     "metadata": {},
     "output_type": "execute_result"
    }
   ],
   "source": [
    "b = data[:,0]\n",
    "A = data[:,1:]\n",
    "A, b"
   ]
  },
  {
   "cell_type": "code",
   "execution_count": 20,
   "metadata": {},
   "outputs": [
    {
     "data": {
      "text/plain": [
       "(array([ 9.77044868e-01,  3.34933292e-02, -6.73466733e-02,  2.95792596e-02,\n",
       "        -3.16707853e-02,  1.46140884e-01, -1.00106035e-01,  4.52858781e-02,\n",
       "        -2.58151572e-02,  2.93425564e-02, -3.12420843e-02, -2.94861927e-02,\n",
       "         2.15152189e-02, -1.14368346e-02,  5.75091857e-02, -8.17545074e-02,\n",
       "         3.84058432e-02, -1.86211593e-02,  2.43775536e-02,  2.13702225e-04,\n",
       "         1.17959600e-02, -3.48438272e-02,  4.18491003e-03,  5.79842652e-02,\n",
       "        -7.73761311e-02, -5.32696390e-03,  7.99809619e-02, -6.31284730e-02,\n",
       "         1.18455626e-02,  1.41376444e-02, -2.00829616e-02, -3.37186711e-02,\n",
       "         2.17052643e-02,  2.13201362e-02,  1.82676779e-02, -4.22730566e-02,\n",
       "         5.34692766e-02,  1.10645239e-02, -8.82968475e-03,  3.98567776e-02,\n",
       "        -7.30384982e-02,  1.48646143e-02,  1.24801759e-02, -1.66246205e-03,\n",
       "         5.19610754e-03, -9.01749026e-02,  3.66261325e-02,  4.28528151e-02,\n",
       "        -3.22112862e-02,  5.52931731e-03,  2.21561165e-02, -5.07864888e-02,\n",
       "         5.17904310e-02, -2.14805357e-02, -1.37874202e-02,  1.93752577e-02,\n",
       "        -9.34362068e-03,  7.74320918e-03, -9.69928391e-04, -1.09718496e-02,\n",
       "         1.15851594e-02,  6.67599395e-03, -1.06829069e-03,  1.14919723e-02,\n",
       "         1.18297977e-02, -3.61997947e-02, -5.38051120e-03, -1.23537049e-02,\n",
       "         6.47871337e-02, -4.14203002e-02,  1.41080867e-02,  9.41849956e-03,\n",
       "        -1.53689702e-02, -1.53744508e-02,  4.88658332e-03,  3.97666470e-02,\n",
       "         4.03304301e-03, -3.31236722e-02,  5.14932137e-03, -1.72437565e-03,\n",
       "         8.52813456e-03, -4.19104472e-02,  5.88874508e-02, -8.54584998e-03,\n",
       "         4.19664721e-03, -1.98683770e-02, -2.15732197e-02,  3.91176406e-02,\n",
       "        -3.82090895e-02,  1.81652122e-02]), 90)"
      ]
     },
     "execution_count": 20,
     "metadata": {},
     "output_type": "execute_result"
    }
   ],
   "source": [
    "x = np.linalg.pinv(A).dot(b)\n",
    "x, len(x)"
   ]
  },
  {
   "cell_type": "code",
   "execution_count": 21,
   "metadata": {},
   "outputs": [
    {
     "data": {
      "text/plain": [
       "(array([ 9.77044868e-01,  3.34933292e-02, -6.73466733e-02,  2.95792596e-02,\n",
       "        -3.16707853e-02,  1.46140884e-01, -1.00106035e-01,  4.52858781e-02,\n",
       "        -2.58151572e-02,  2.93425564e-02, -3.12420843e-02, -2.94861927e-02,\n",
       "         2.15152189e-02, -1.14368346e-02,  5.75091857e-02, -8.17545074e-02,\n",
       "         3.84058432e-02, -1.86211593e-02,  2.43775536e-02,  2.13702225e-04,\n",
       "         1.17959600e-02, -3.48438272e-02,  4.18491003e-03,  5.79842652e-02,\n",
       "        -7.73761311e-02, -5.32696390e-03,  7.99809619e-02, -6.31284730e-02,\n",
       "         1.18455626e-02,  1.41376444e-02, -2.00829616e-02, -3.37186711e-02,\n",
       "         2.17052643e-02,  2.13201362e-02,  1.82676779e-02, -4.22730566e-02,\n",
       "         5.34692766e-02,  1.10645239e-02, -8.82968475e-03,  3.98567776e-02,\n",
       "        -7.30384982e-02,  1.48646143e-02,  1.24801759e-02, -1.66246205e-03,\n",
       "         5.19610754e-03, -9.01749026e-02,  3.66261325e-02,  4.28528151e-02,\n",
       "        -3.22112862e-02,  5.52931731e-03,  2.21561165e-02, -5.07864888e-02,\n",
       "         5.17904310e-02, -2.14805357e-02, -1.37874202e-02,  1.93752577e-02,\n",
       "        -9.34362068e-03,  7.74320918e-03, -9.69928391e-04, -1.09718496e-02,\n",
       "         1.15851594e-02,  6.67599395e-03, -1.06829069e-03,  1.14919723e-02,\n",
       "         1.18297977e-02, -3.61997947e-02, -5.38051120e-03, -1.23537049e-02,\n",
       "         6.47871337e-02, -4.14203002e-02,  1.41080867e-02,  9.41849956e-03,\n",
       "        -1.53689702e-02, -1.53744508e-02,  4.88658332e-03,  3.97666470e-02,\n",
       "         4.03304301e-03, -3.31236722e-02,  5.14932137e-03, -1.72437565e-03,\n",
       "         8.52813456e-03, -4.19104472e-02,  5.88874508e-02, -8.54584998e-03,\n",
       "         4.19664721e-03, -1.98683770e-02, -2.15732197e-02,  3.91176406e-02,\n",
       "        -3.82090895e-02,  1.81652122e-02]), 90)"
      ]
     },
     "execution_count": 21,
     "metadata": {},
     "output_type": "execute_result"
    }
   ],
   "source": [
    "x = np.linalg.pinv(A).dot(b)\n",
    "x, len(x)"
   ]
  },
  {
   "cell_type": "code",
   "execution_count": 24,
   "metadata": {},
   "outputs": [],
   "source": [
    "pred = linear[0:90]"
   ]
  },
  {
   "cell_type": "code",
   "execution_count": 25,
   "metadata": {},
   "outputs": [
    {
     "data": {
      "text/plain": [
       "18.832999198719033"
      ]
     },
     "execution_count": 25,
     "metadata": {},
     "output_type": "execute_result"
    }
   ],
   "source": [
    "pred.dot(x)"
   ]
  },
  {
   "cell_type": "code",
   "execution_count": 26,
   "metadata": {},
   "outputs": [
    {
     "data": {
      "text/plain": [
       "[<matplotlib.lines.Line2D at 0x100b6d5828>]"
      ]
     },
     "execution_count": 26,
     "metadata": {},
     "output_type": "execute_result"
    },
    {
     "data": {
      "image/png": "[encoded data removed]",
      "text/plain": [
       "<Figure size 432x288 with 1 Axes>"
      ]
     },
     "metadata": {},
     "output_type": "display_data"
    }
   ],
   "source": [
    "plt.plot(x)"
   ]
  },
  {
   "cell_type": "code",
   "execution_count": null,
   "metadata": {},
   "outputs": [],
   "source": []
  }
 ],
 "metadata": {
  "kernelspec": {
   "display_name": "Python 3",
   "language": "python",
   "name": "python3"
  },
  "language_info": {
   "codemirror_mode": {
    "name": "ipython",
    "version": 3
   },
   "file_extension": ".py",
   "mimetype": "text/x-python",
   "name": "python",
   "nbconvert_exporter": "python",
   "pygments_lexer": "ipython3",
   "version": "3.6.5"
  }
 },
 "nbformat": 4,
 "nbformat_minor": 2
}
