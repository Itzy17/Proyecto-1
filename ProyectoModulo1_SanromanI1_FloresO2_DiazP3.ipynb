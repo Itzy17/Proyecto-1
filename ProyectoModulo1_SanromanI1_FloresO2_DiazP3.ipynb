{
 "cells": [
  {
   "cell_type": "markdown",
   "metadata": {},
   "source": [
    "***Primer proyecto de simulación matemática***"
   ]
  },
  {
   "cell_type": "markdown",
   "metadata": {},
   "source": [
    "# \"Predecir precio del dólar\""
   ]
  },
  {
   "cell_type": "code",
   "execution_count": 1,
   "metadata": {},
   "outputs": [],
   "source": [
    "import pandas as pd\n",
    "import numpy as np\n",
    "import scipy.optimize as opt\n",
    "import matplotlib.pyplot as plt"
   ]
  },
  {
   "cell_type": "code",
   "execution_count": 2,
   "metadata": {},
   "outputs": [],
   "source": [
    "def datos(archivo, columnas):\n",
    "    file = pd.read_csv(archivo) #se importa el archivo.\n",
    "    n = len(file['Fecha']) #se calcula la longitud de los datos. \n",
    "    cierre = file['Cierre'].values\n",
    "    en_blanco = np.zeros((n-columnas,columnas)) #se crea un array en blanco de dimensiones(n-columna * colummna)\n",
    "    for k in np.arange(columnas): \n",
    "        en_blanco[:,k] = cierre[k:n-columnas+k] #se rellenan los datos vacíos con los originales.\n",
    "    return(en_blanco, cierre)"
   ]
  },
  {
   "cell_type": "code",
   "execution_count": 3,
   "metadata": {},
   "outputs": [
    {
     "data": {
      "text/plain": [
       "array([[18.819 , 18.776 , 18.8068, ..., 18.8936, 18.8935, 18.982 ],\n",
       "       [18.776 , 18.8068, 18.838 , ..., 18.8935, 18.982 , 19.1373],\n",
       "       [18.8068, 18.838 , 18.895 , ..., 18.982 , 19.1373, 18.8826],\n",
       "       ...,\n",
       "       [11.8145, 11.235 , 11.2   , ..., 10.145 , 10.1625, 10.135 ],\n",
       "       [11.235 , 11.2   , 10.96  , ..., 10.1625, 10.135 , 10.145 ],\n",
       "       [11.2   , 10.96  , 10.92  , ..., 10.135 , 10.145 , 10.095 ]])"
      ]
     },
     "execution_count": 3,
     "metadata": {},
     "output_type": "execute_result"
    }
   ],
   "source": [
    "archivo = 'USD_MXN.csv'    \n",
    "data, linear = datos(archivo, 31)\n",
    "data"
   ]
  },
  {
   "cell_type": "code",
   "execution_count": 4,
   "metadata": {},
   "outputs": [
    {
     "data": {
      "text/plain": [
       "(array([[18.776 , 18.8068, 18.838 , ..., 18.8936, 18.8935, 18.982 ],\n",
       "        [18.8068, 18.838 , 18.895 , ..., 18.8935, 18.982 , 19.1373],\n",
       "        [18.838 , 18.895 , 18.8882, ..., 18.982 , 19.1373, 18.8826],\n",
       "        ...,\n",
       "        [11.235 , 11.2   , 10.96  , ..., 10.145 , 10.1625, 10.135 ],\n",
       "        [11.2   , 10.96  , 10.92  , ..., 10.1625, 10.135 , 10.145 ],\n",
       "        [10.96  , 10.92  , 11.04  , ..., 10.135 , 10.145 , 10.095 ]]),\n",
       " array([18.819 , 18.776 , 18.8068, ..., 11.8145, 11.235 , 11.2   ]))"
      ]
     },
     "execution_count": 4,
     "metadata": {},
     "output_type": "execute_result"
    }
   ],
   "source": [
    "b = data[:,0]\n",
    "A = data[:,1:]\n",
    "A, b"
   ]
  },
  {
   "cell_type": "markdown",
   "metadata": {},
   "source": [
    "Se toma por supuesto que el precio de un día será dado por el precio de 30 días anteriores. Se tiene el resultado algebráico: $$Ax = b$$ dónde A es la matriz nombrada de valores de ingreso y b es el resultado. \n",
    "se despeja x para conseguir el vector con el cual se harán aproximaciones posteriormente. \n",
    "$$x = A^{-1}b$$"
   ]
  },
  {
   "cell_type": "code",
   "execution_count": 5,
   "metadata": {},
   "outputs": [
    {
     "data": {
      "text/plain": [
       "(array([ 9.73588406e-01, -4.95386517e-04, -1.34215421e-03,  1.20240964e-02,\n",
       "        -4.12632310e-02,  1.26364132e-01, -8.49968250e-02,  7.33702673e-02,\n",
       "        -4.86844621e-02,  9.92309388e-03,  3.44808057e-03, -3.57375544e-02,\n",
       "         4.93039900e-03, -1.37626974e-02,  4.23376656e-02, -2.60167939e-02,\n",
       "        -1.29787848e-02, -2.95980351e-02,  5.81861925e-02,  7.88262352e-03,\n",
       "         4.87429776e-03, -4.12241544e-02,  1.25482087e-02,  4.32104616e-02,\n",
       "        -7.13789923e-02,  1.50409753e-02,  6.48299094e-02, -8.47440052e-02,\n",
       "         4.93332937e-02, -9.49262862e-03]), 30)"
      ]
     },
     "execution_count": 5,
     "metadata": {},
     "output_type": "execute_result"
    }
   ],
   "source": [
    "x = np.linalg.pinv(A).dot(b)\n",
    "x, len(x)"
   ]
  },
  {
   "cell_type": "markdown",
   "metadata": {},
   "source": [
    "Ahora que se tiene el vector X ingresamos los últimos 30 datos y los evalúamos con el vector para conseguir una aproximación de la nueva cotización. "
   ]
  },
  {
   "cell_type": "code",
   "execution_count": 6,
   "metadata": {},
   "outputs": [],
   "source": [
    "pred = linear[0:30]"
   ]
  },
  {
   "cell_type": "markdown",
   "metadata": {},
   "source": [
    "En la variable pred almacenamos los últimos 30 datos obtenidos de las cotizaciones del dolar-peso y la multiplicamos vectorialmente por la variable x. El resultado deberá ser un número cercano al precio nuevo."
   ]
  },
  {
   "cell_type": "code",
   "execution_count": 7,
   "metadata": {},
   "outputs": [
    {
     "data": {
      "text/plain": [
       "18.816193614698225"
      ]
     },
     "execution_count": 7,
     "metadata": {},
     "output_type": "execute_result"
    }
   ],
   "source": [
    "pred.dot(x)"
   ]
  },
  {
   "cell_type": "markdown",
   "metadata": {},
   "source": [
    "Como valor nos arroja que el precio del día 20 de septiembre deberá ser cercano a   **18.816193** .  Después de consultar el precio de cierre del día 20 de septiembre confirmamos que es de:   **18.7972**   Obteniendo un error de   **0.1%**   en la predicción del nuevo precio. "
   ]
  },
  {
   "cell_type": "code",
   "execution_count": 8,
   "metadata": {},
   "outputs": [
    {
     "data": {
      "text/plain": [
       "[<matplotlib.lines.Line2D at 0x235058fa4a8>]"
      ]
     },
     "execution_count": 8,
     "metadata": {},
     "output_type": "execute_result"
    },
    {
     "data": {
      "image/png": "[encoded data removed]",
      "text/plain": [
       "<Figure size 432x288 with 1 Axes>"
      ]
     },
     "metadata": {},
     "output_type": "display_data"
    }
   ],
   "source": [
    "plt.plot(x)"
   ]
  },
  {
   "cell_type": "code",
   "execution_count": 9,
   "metadata": {},
   "outputs": [
    {
     "data": {
      "text/plain": [
       "array([ 9.73588406e-01, -4.95386517e-04, -1.34215421e-03,  1.20240964e-02,\n",
       "       -4.12632310e-02,  1.26364132e-01, -8.49968250e-02,  7.33702673e-02,\n",
       "       -4.86844621e-02,  9.92309388e-03,  3.44808057e-03, -3.57375544e-02,\n",
       "        4.93039900e-03, -1.37626974e-02,  4.23376656e-02, -2.60167939e-02,\n",
       "       -1.29787848e-02, -2.95980351e-02,  5.81861925e-02,  7.88262352e-03,\n",
       "        4.87429776e-03, -4.12241544e-02,  1.25482087e-02,  4.32104616e-02,\n",
       "       -7.13789923e-02,  1.50409753e-02,  6.48299094e-02, -8.47440052e-02,\n",
       "        4.93332937e-02, -9.49262862e-03])"
      ]
     },
     "execution_count": 9,
     "metadata": {},
     "output_type": "execute_result"
    }
   ],
   "source": [
    "x"
   ]
  },
  {
   "cell_type": "code",
   "execution_count": 11,
   "metadata": {},
   "outputs": [
    {
     "data": {
      "text/plain": [
       "array([[18.819 , 18.776 , 18.8068, 18.838 , 18.895 , 18.8882],\n",
       "       [18.776 , 18.8068, 18.838 , 18.895 , 18.8882, 18.8335],\n",
       "       [18.8068, 18.838 , 18.895 , 18.8882, 18.8335, 19.0177],\n",
       "       ...,\n",
       "       [10.3365, 10.285 , 10.235 , 10.145 , 10.1625, 10.135 ],\n",
       "       [10.285 , 10.235 , 10.145 , 10.1625, 10.135 , 10.145 ],\n",
       "       [10.235 , 10.145 , 10.1625, 10.135 , 10.145 , 10.095 ]])"
      ]
     },
     "execution_count": 11,
     "metadata": {},
     "output_type": "execute_result"
    }
   ],
   "source": [
    "archivo = 'USD_MXN.csv'    \n",
    "data, linear = datos(archivo, 6)\n",
    "data"
   ]
  },
  {
   "cell_type": "code",
   "execution_count": 12,
   "metadata": {},
   "outputs": [
    {
     "data": {
      "text/plain": [
       "(array([[18.776 , 18.8068, 18.838 , 18.895 , 18.8882],\n",
       "        [18.8068, 18.838 , 18.895 , 18.8882, 18.8335],\n",
       "        [18.838 , 18.895 , 18.8882, 18.8335, 19.0177],\n",
       "        ...,\n",
       "        [10.285 , 10.235 , 10.145 , 10.1625, 10.135 ],\n",
       "        [10.235 , 10.145 , 10.1625, 10.135 , 10.145 ],\n",
       "        [10.145 , 10.1625, 10.135 , 10.145 , 10.095 ]]),\n",
       " array([18.819 , 18.776 , 18.8068, ..., 10.3365, 10.285 , 10.235 ]))"
      ]
     },
     "execution_count": 12,
     "metadata": {},
     "output_type": "execute_result"
    }
   ],
   "source": [
    "b = data[:,0]\n",
    "A = data[:,1:]\n",
    "A, b"
   ]
  },
  {
   "cell_type": "code",
   "execution_count": 13,
   "metadata": {},
   "outputs": [
    {
     "data": {
      "text/plain": [
       "(array([ 0.96478304,  0.01054616, -0.00331316,  0.01196263,  0.01621708]), 5)"
      ]
     },
     "execution_count": 13,
     "metadata": {},
     "output_type": "execute_result"
    }
   ],
   "source": [
    "x = np.linalg.pinv(A).dot(b)\n",
    "x, len(x)"
   ]
  },
  {
   "cell_type": "code",
   "execution_count": 16,
   "metadata": {},
   "outputs": [],
   "source": [
    "pred = linear[0:5]"
   ]
  },
  {
   "cell_type": "code",
   "execution_count": 17,
   "metadata": {},
   "outputs": [
    {
     "data": {
      "text/plain": [
       "18.82373064683572"
      ]
     },
     "execution_count": 17,
     "metadata": {},
     "output_type": "execute_result"
    }
   ],
   "source": [
    "pred.dot(x)"
   ]
  },
  {
   "cell_type": "code",
   "execution_count": null,
   "metadata": {},
   "outputs": [],
   "source": []
  }
 ],
 "metadata": {
  "kernelspec": {
   "display_name": "Python 3",
   "language": "python",
   "name": "python3"
  },
  "language_info": {
   "codemirror_mode": {
    "name": "ipython",
    "version": 3
   },
   "file_extension": ".py",
   "mimetype": "text/x-python",
   "name": "python",
   "nbconvert_exporter": "python",
   "pygments_lexer": "ipython3",
   "version": "3.6.5"
  }
 },
 "nbformat": 4,
 "nbformat_minor": 2
}
